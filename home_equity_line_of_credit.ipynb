{
 "cells": [
  {
   "cell_type": "markdown",
   "id": "6159c0f7-d453-4fb2-afb0-ff799174de36",
   "metadata": {},
   "source": [
    "# Home Equity Line of Credit (Loan Default Prediction with XGBoost)\n",
    "\n",
    "## Project Overview\n",
    "\n",
    "This project leverages machine learning to predict loan defaults using an XGBoost classification model. The dataset used in this project includes a variety of financial and employment-related features that influence a borrower's likelihood of defaulting on a Home Equity Line of Credit (HELOC).\n",
    "\n",
    "The key goals of this project include:\n",
    "\n",
    "- Exploring and understanding the dataset through visualization and statistics\n",
    "- Cleaning and preprocessing the data for model readiness\n",
    "- Applying the XGBoost algorithm for classification\n",
    "- Evaluating model performance using classification metrics\n",
    "- Interpreting feature importance to guide lending decisions\n",
    "- Providing insights and recommendations to reduce loan default risk\n",
    "\n",
    "## Tools and Technologies\n",
    "\n",
    "- Python\n",
    "- Pandas & NumPy for data manipulation\n",
    "- Matplotlib & Seaborn for data visualization\n",
    "- Scikit-learn for preprocessing and model evaluation\n",
    "- XGBoost for building the predictive model\n",
    "\n",
    "## Dataset Features\n",
    "\n",
    "Some of the key features include:\n",
    "\n",
    "- `DEBTINC`: Debt-to-Income Ratio\n",
    "- `CLAGE`: Age of the oldest credit line\n",
    "- `MORTDUE`: Amount due on existing mortgage\n",
    "- `VALUE`: Value of current property\n",
    "- `LOAN`: Requested loan amount\n",
    "- `CLNO`: Number of existing credit lines\n",
    "- `YOJ`: Years at current job\n",
    "- `JOB`: Type of job\n",
    "- `DELINQ`: Number of delinquent credit lines\n",
    "\n",
    "## Target Variable\n",
    "\n",
    "- `DEFAULT`: Indicates whether the borrower defaulted (1) or not (0)\n",
    "\n",
    "---\n",
    "\n",
    "> **Note**: This project serves as both an analytical exercise and a practical guide for financial analysts, credit risk officers, and data scientists working in the finance and lending industries.\n",
    "\n"
   ]
  },
  {
   "cell_type": "code",
   "execution_count": 2,
   "id": "1f76c715-76bd-46e8-ba61-341210605677",
   "metadata": {},
   "outputs": [
    {
     "data": {
      "text/html": [
       "<div>\n",
       "<style scoped>\n",
       "    .dataframe tbody tr th:only-of-type {\n",
       "        vertical-align: middle;\n",
       "    }\n",
       "\n",
       "    .dataframe tbody tr th {\n",
       "        vertical-align: top;\n",
       "    }\n",
       "\n",
       "    .dataframe thead th {\n",
       "        text-align: right;\n",
       "    }\n",
       "</style>\n",
       "<table border=\"1\" class=\"dataframe\">\n",
       "  <thead>\n",
       "    <tr style=\"text-align: right;\">\n",
       "      <th></th>\n",
       "      <th>BAD</th>\n",
       "      <th>LOAN</th>\n",
       "      <th>MORTDUE</th>\n",
       "      <th>VALUE</th>\n",
       "      <th>REASON</th>\n",
       "      <th>JOB</th>\n",
       "      <th>YOJ</th>\n",
       "      <th>DEROG</th>\n",
       "      <th>DELINQ</th>\n",
       "      <th>CLAGE</th>\n",
       "      <th>NINQ</th>\n",
       "      <th>CLNO</th>\n",
       "      <th>DEBTINC</th>\n",
       "    </tr>\n",
       "  </thead>\n",
       "  <tbody>\n",
       "    <tr>\n",
       "      <th>0</th>\n",
       "      <td>1</td>\n",
       "      <td>1100</td>\n",
       "      <td>25860.0</td>\n",
       "      <td>39025.0</td>\n",
       "      <td>HomeImp</td>\n",
       "      <td>Other</td>\n",
       "      <td>10.5</td>\n",
       "      <td>0.0</td>\n",
       "      <td>0.0</td>\n",
       "      <td>94.366667</td>\n",
       "      <td>1.0</td>\n",
       "      <td>9.0</td>\n",
       "      <td>NaN</td>\n",
       "    </tr>\n",
       "    <tr>\n",
       "      <th>1</th>\n",
       "      <td>1</td>\n",
       "      <td>1300</td>\n",
       "      <td>70053.0</td>\n",
       "      <td>68400.0</td>\n",
       "      <td>HomeImp</td>\n",
       "      <td>Other</td>\n",
       "      <td>7.0</td>\n",
       "      <td>0.0</td>\n",
       "      <td>2.0</td>\n",
       "      <td>121.833333</td>\n",
       "      <td>0.0</td>\n",
       "      <td>14.0</td>\n",
       "      <td>NaN</td>\n",
       "    </tr>\n",
       "    <tr>\n",
       "      <th>2</th>\n",
       "      <td>1</td>\n",
       "      <td>1500</td>\n",
       "      <td>13500.0</td>\n",
       "      <td>16700.0</td>\n",
       "      <td>HomeImp</td>\n",
       "      <td>Other</td>\n",
       "      <td>4.0</td>\n",
       "      <td>0.0</td>\n",
       "      <td>0.0</td>\n",
       "      <td>149.466667</td>\n",
       "      <td>1.0</td>\n",
       "      <td>10.0</td>\n",
       "      <td>NaN</td>\n",
       "    </tr>\n",
       "    <tr>\n",
       "      <th>3</th>\n",
       "      <td>1</td>\n",
       "      <td>1500</td>\n",
       "      <td>NaN</td>\n",
       "      <td>NaN</td>\n",
       "      <td>NaN</td>\n",
       "      <td>NaN</td>\n",
       "      <td>NaN</td>\n",
       "      <td>NaN</td>\n",
       "      <td>NaN</td>\n",
       "      <td>NaN</td>\n",
       "      <td>NaN</td>\n",
       "      <td>NaN</td>\n",
       "      <td>NaN</td>\n",
       "    </tr>\n",
       "    <tr>\n",
       "      <th>4</th>\n",
       "      <td>0</td>\n",
       "      <td>1700</td>\n",
       "      <td>97800.0</td>\n",
       "      <td>112000.0</td>\n",
       "      <td>HomeImp</td>\n",
       "      <td>Office</td>\n",
       "      <td>3.0</td>\n",
       "      <td>0.0</td>\n",
       "      <td>0.0</td>\n",
       "      <td>93.333333</td>\n",
       "      <td>0.0</td>\n",
       "      <td>14.0</td>\n",
       "      <td>NaN</td>\n",
       "    </tr>\n",
       "  </tbody>\n",
       "</table>\n",
       "</div>"
      ],
      "text/plain": [
       "   BAD  LOAN  MORTDUE     VALUE   REASON     JOB   YOJ  DEROG  DELINQ  \\\n",
       "0    1  1100  25860.0   39025.0  HomeImp   Other  10.5    0.0     0.0   \n",
       "1    1  1300  70053.0   68400.0  HomeImp   Other   7.0    0.0     2.0   \n",
       "2    1  1500  13500.0   16700.0  HomeImp   Other   4.0    0.0     0.0   \n",
       "3    1  1500      NaN       NaN      NaN     NaN   NaN    NaN     NaN   \n",
       "4    0  1700  97800.0  112000.0  HomeImp  Office   3.0    0.0     0.0   \n",
       "\n",
       "        CLAGE  NINQ  CLNO  DEBTINC  \n",
       "0   94.366667   1.0   9.0      NaN  \n",
       "1  121.833333   0.0  14.0      NaN  \n",
       "2  149.466667   1.0  10.0      NaN  \n",
       "3         NaN   NaN   NaN      NaN  \n",
       "4   93.333333   0.0  14.0      NaN  "
      ]
     },
     "execution_count": 2,
     "metadata": {},
     "output_type": "execute_result"
    }
   ],
   "source": [
    "#uploading the heloc dataset\n",
    "\n",
    "import pandas as pd\n",
    "import numpy as np\n",
    "\n",
    "# Load the dataset from Excel\n",
    "data = pd.read_excel('Heloc.xlsx')\n",
    "\n",
    "# Quick look at the data\n",
    "data.head()"
   ]
  },
  {
   "cell_type": "code",
   "execution_count": 4,
   "id": "1197e1bd-7286-43e3-b2f0-1578ad04932b",
   "metadata": {},
   "outputs": [
    {
     "name": "stdout",
     "output_type": "stream",
     "text": [
      "(5960, 13)\n",
      "<class 'pandas.core.frame.DataFrame'>\n",
      "RangeIndex: 5960 entries, 0 to 5959\n",
      "Data columns (total 13 columns):\n",
      " #   Column   Non-Null Count  Dtype  \n",
      "---  ------   --------------  -----  \n",
      " 0   BAD      5960 non-null   int64  \n",
      " 1   LOAN     5960 non-null   int64  \n",
      " 2   MORTDUE  5442 non-null   float64\n",
      " 3   VALUE    5848 non-null   float64\n",
      " 4   REASON   5708 non-null   object \n",
      " 5   JOB      5681 non-null   object \n",
      " 6   YOJ      5445 non-null   float64\n",
      " 7   DEROG    5252 non-null   float64\n",
      " 8   DELINQ   5380 non-null   float64\n",
      " 9   CLAGE    5652 non-null   float64\n",
      " 10  NINQ     5450 non-null   float64\n",
      " 11  CLNO     5738 non-null   float64\n",
      " 12  DEBTINC  4693 non-null   float64\n",
      "dtypes: float64(9), int64(2), object(2)\n",
      "memory usage: 605.4+ KB\n",
      "None\n",
      "               BAD          LOAN        MORTDUE          VALUE          YOJ  \\\n",
      "count  5960.000000   5960.000000    5442.000000    5848.000000  5445.000000   \n",
      "mean      0.199497  18607.969799   73760.817200  101776.048741     8.922268   \n",
      "std       0.399656  11207.480417   44457.609458   57385.775334     7.573982   \n",
      "min       0.000000   1100.000000    2063.000000    8000.000000     0.000000   \n",
      "25%       0.000000  11100.000000   46276.000000   66075.500000     3.000000   \n",
      "50%       0.000000  16300.000000   65019.000000   89235.500000     7.000000   \n",
      "75%       0.000000  23300.000000   91488.000000  119824.250000    13.000000   \n",
      "max       1.000000  89900.000000  399550.000000  855909.000000    41.000000   \n",
      "\n",
      "             DEROG       DELINQ        CLAGE         NINQ         CLNO  \\\n",
      "count  5252.000000  5380.000000  5652.000000  5450.000000  5738.000000   \n",
      "mean      0.254570     0.449442   179.766275     1.186055    21.296096   \n",
      "std       0.846047     1.127266    85.810092     1.728675    10.138933   \n",
      "min       0.000000     0.000000     0.000000     0.000000     0.000000   \n",
      "25%       0.000000     0.000000   115.116702     0.000000    15.000000   \n",
      "50%       0.000000     0.000000   173.466667     1.000000    20.000000   \n",
      "75%       0.000000     0.000000   231.562278     2.000000    26.000000   \n",
      "max      10.000000    15.000000  1168.233561    17.000000    71.000000   \n",
      "\n",
      "           DEBTINC  \n",
      "count  4693.000000  \n",
      "mean     33.779915  \n",
      "std       8.601746  \n",
      "min       0.524499  \n",
      "25%      29.140031  \n",
      "50%      34.818262  \n",
      "75%      39.003141  \n",
      "max     203.312149  \n",
      "BAD           0\n",
      "LOAN          0\n",
      "MORTDUE     518\n",
      "VALUE       112\n",
      "REASON      252\n",
      "JOB         279\n",
      "YOJ         515\n",
      "DEROG       708\n",
      "DELINQ      580\n",
      "CLAGE       308\n",
      "NINQ        510\n",
      "CLNO        222\n",
      "DEBTINC    1267\n",
      "dtype: int64\n"
     ]
    }
   ],
   "source": [
    "# understanding the dataset\n",
    "print(data.shape)\n",
    "print(data.info())\n",
    "\n",
    "# Summary statistics\n",
    "print(data.describe())\n",
    "\n",
    "# Missing values count\n",
    "print(data.isnull().sum())"
   ]
  },
  {
   "cell_type": "code",
   "execution_count": 7,
   "id": "2ed8dda7-86d0-4cf6-afe8-20eea4d5d5c1",
   "metadata": {},
   "outputs": [],
   "source": [
    "#Cleaning and Pre-processing\n",
    "\n",
    "# Identify numeric columns\n",
    "numeric_cols = data.select_dtypes(include=[np.number]).columns.tolist()\n",
    "\n",
    "# Fill missing numeric values with median\n",
    "data[numeric_cols] = data[numeric_cols].fillna(data[numeric_cols].median())\n",
    "\n",
    "# For categorical columns fill missing with mode or 'Missing'\n",
    "categorical_cols = ['REASON', 'JOB']\n",
    "for col in categorical_cols:\n",
    "    data[col] = data[col].fillna('Missing')"
   ]
  },
  {
   "cell_type": "code",
   "execution_count": 9,
   "id": "c781e762-32fd-46b6-8070-f71f722a7b9f",
   "metadata": {},
   "outputs": [
    {
     "name": "stdout",
     "output_type": "stream",
     "text": [
      "(5960, 13)\n",
      "<class 'pandas.core.frame.DataFrame'>\n",
      "RangeIndex: 5960 entries, 0 to 5959\n",
      "Data columns (total 13 columns):\n",
      " #   Column   Non-Null Count  Dtype  \n",
      "---  ------   --------------  -----  \n",
      " 0   BAD      5960 non-null   int64  \n",
      " 1   LOAN     5960 non-null   int64  \n",
      " 2   MORTDUE  5960 non-null   float64\n",
      " 3   VALUE    5960 non-null   float64\n",
      " 4   REASON   5960 non-null   object \n",
      " 5   JOB      5960 non-null   object \n",
      " 6   YOJ      5960 non-null   float64\n",
      " 7   DEROG    5960 non-null   float64\n",
      " 8   DELINQ   5960 non-null   float64\n",
      " 9   CLAGE    5960 non-null   float64\n",
      " 10  NINQ     5960 non-null   float64\n",
      " 11  CLNO     5960 non-null   float64\n",
      " 12  DEBTINC  5960 non-null   float64\n",
      "dtypes: float64(9), int64(2), object(2)\n",
      "memory usage: 605.4+ KB\n",
      "None\n",
      "               BAD          LOAN        MORTDUE          VALUE          YOJ  \\\n",
      "count  5960.000000   5960.000000    5960.000000    5960.000000  5960.000000   \n",
      "mean      0.199497  18607.969799   73001.041812  101540.387423     8.756166   \n",
      "std       0.399656  11207.480417   42552.726779   56869.436682     7.259424   \n",
      "min       0.000000   1100.000000    2063.000000    8000.000000     0.000000   \n",
      "25%       0.000000  11100.000000   48139.000000   66489.500000     3.000000   \n",
      "50%       0.000000  16300.000000   65019.000000   89235.500000     7.000000   \n",
      "75%       0.000000  23300.000000   88200.250000  119004.750000    12.000000   \n",
      "max       1.000000  89900.000000  399550.000000  855909.000000    41.000000   \n",
      "\n",
      "             DEROG       DELINQ        CLAGE         NINQ         CLNO  \\\n",
      "count  5960.000000  5960.000000  5960.000000  5960.000000  5960.000000   \n",
      "mean      0.224329     0.405705   179.440725     1.170134    21.247819   \n",
      "std       0.798458     1.079256    83.574697     1.653866     9.951308   \n",
      "min       0.000000     0.000000     0.000000     0.000000     0.000000   \n",
      "25%       0.000000     0.000000   117.371430     0.000000    15.000000   \n",
      "50%       0.000000     0.000000   173.466667     1.000000    20.000000   \n",
      "75%       0.000000     0.000000   227.143058     2.000000    26.000000   \n",
      "max      10.000000    15.000000  1168.233561    17.000000    71.000000   \n",
      "\n",
      "           DEBTINC  \n",
      "count  5960.000000  \n",
      "mean     34.000651  \n",
      "std       7.644528  \n",
      "min       0.524499  \n",
      "25%      30.763159  \n",
      "50%      34.818262  \n",
      "75%      37.949892  \n",
      "max     203.312149  \n",
      "BAD        0\n",
      "LOAN       0\n",
      "MORTDUE    0\n",
      "VALUE      0\n",
      "REASON     0\n",
      "JOB        0\n",
      "YOJ        0\n",
      "DEROG      0\n",
      "DELINQ     0\n",
      "CLAGE      0\n",
      "NINQ       0\n",
      "CLNO       0\n",
      "DEBTINC    0\n",
      "dtype: int64\n"
     ]
    }
   ],
   "source": [
    "# Checking the data again after cleaning\n",
    "print(data.shape)\n",
    "print(data.info())\n",
    "\n",
    "# Summary statistics\n",
    "print(data.describe())\n",
    "\n",
    "# Missing values count\n",
    "print(data.isnull().sum())"
   ]
  },
  {
   "cell_type": "code",
   "execution_count": 12,
   "id": "750a0a44-9698-40f7-bb28-9d09f10c50f5",
   "metadata": {},
   "outputs": [],
   "source": [
    "#saving the clean dataset\n",
    "\n",
    "data.to_excel(\"Heloc_cleaned.xlsx\", index=False)"
   ]
  },
  {
   "cell_type": "code",
   "execution_count": 14,
   "id": "f45377f0-63b5-4a19-b734-5765be0131b0",
   "metadata": {},
   "outputs": [],
   "source": [
    "#converting categorical variables\n",
    "\n",
    "data = pd.get_dummies(data, columns=categorical_cols, drop_first=True)"
   ]
  },
  {
   "cell_type": "code",
   "execution_count": 16,
   "id": "56cae5c3-e402-43ce-89b1-dc7650292e15",
   "metadata": {},
   "outputs": [],
   "source": [
    "#Feature Engineering\n",
    "\n",
    "# Loan-to-Value ratio\n",
    "data['LOAN_TO_VALUE'] = data['LOAN'] / data['VALUE']\n",
    "\n",
    "# Mortgage-to-Value ratio\n",
    "data['MORTGAGE_TO_VALUE'] = data['MORTDUE'] / data['VALUE']\n",
    "\n",
    "# Handle infinities or NaNs from division by zero\n",
    "data.replace([np.inf, -np.inf], np.nan, inplace=True)\n",
    "data.fillna(0, inplace=True)"
   ]
  },
  {
   "cell_type": "code",
   "execution_count": 18,
   "id": "94e13512-e3d8-40c5-bffb-99ab93b9a842",
   "metadata": {},
   "outputs": [],
   "source": [
    "#preparing data for modelling\n",
    "\n",
    "X = data.drop('BAD', axis=1)\n",
    "y = data['BAD']"
   ]
  },
  {
   "cell_type": "code",
   "execution_count": 20,
   "id": "53a980da-ea36-4f59-ab8d-c68490fd727a",
   "metadata": {},
   "outputs": [],
   "source": [
    "#training and testing set\n",
    "\n",
    "from sklearn.model_selection import train_test_split\n",
    "\n",
    "X_train, X_test, y_train, y_test = train_test_split(\n",
    "    X, y, test_size=0.2, random_state=42, stratify=y)"
   ]
  },
  {
   "cell_type": "code",
   "execution_count": 22,
   "id": "f70b5cf5-201c-4236-93b4-38f486b739c8",
   "metadata": {},
   "outputs": [
    {
     "data": {
      "text/html": [
       "<style>#sk-container-id-2 {color: black;}#sk-container-id-2 pre{padding: 0;}#sk-container-id-2 div.sk-toggleable {background-color: white;}#sk-container-id-2 label.sk-toggleable__label {cursor: pointer;display: block;width: 100%;margin-bottom: 0;padding: 0.3em;box-sizing: border-box;text-align: center;}#sk-container-id-2 label.sk-toggleable__label-arrow:before {content: \"▸\";float: left;margin-right: 0.25em;color: #696969;}#sk-container-id-2 label.sk-toggleable__label-arrow:hover:before {color: black;}#sk-container-id-2 div.sk-estimator:hover label.sk-toggleable__label-arrow:before {color: black;}#sk-container-id-2 div.sk-toggleable__content {max-height: 0;max-width: 0;overflow: hidden;text-align: left;background-color: #f0f8ff;}#sk-container-id-2 div.sk-toggleable__content pre {margin: 0.2em;color: black;border-radius: 0.25em;background-color: #f0f8ff;}#sk-container-id-2 input.sk-toggleable__control:checked~div.sk-toggleable__content {max-height: 200px;max-width: 100%;overflow: auto;}#sk-container-id-2 input.sk-toggleable__control:checked~label.sk-toggleable__label-arrow:before {content: \"▾\";}#sk-container-id-2 div.sk-estimator input.sk-toggleable__control:checked~label.sk-toggleable__label {background-color: #d4ebff;}#sk-container-id-2 div.sk-label input.sk-toggleable__control:checked~label.sk-toggleable__label {background-color: #d4ebff;}#sk-container-id-2 input.sk-hidden--visually {border: 0;clip: rect(1px 1px 1px 1px);clip: rect(1px, 1px, 1px, 1px);height: 1px;margin: -1px;overflow: hidden;padding: 0;position: absolute;width: 1px;}#sk-container-id-2 div.sk-estimator {font-family: monospace;background-color: #f0f8ff;border: 1px dotted black;border-radius: 0.25em;box-sizing: border-box;margin-bottom: 0.5em;}#sk-container-id-2 div.sk-estimator:hover {background-color: #d4ebff;}#sk-container-id-2 div.sk-parallel-item::after {content: \"\";width: 100%;border-bottom: 1px solid gray;flex-grow: 1;}#sk-container-id-2 div.sk-label:hover label.sk-toggleable__label {background-color: #d4ebff;}#sk-container-id-2 div.sk-serial::before {content: \"\";position: absolute;border-left: 1px solid gray;box-sizing: border-box;top: 0;bottom: 0;left: 50%;z-index: 0;}#sk-container-id-2 div.sk-serial {display: flex;flex-direction: column;align-items: center;background-color: white;padding-right: 0.2em;padding-left: 0.2em;position: relative;}#sk-container-id-2 div.sk-item {position: relative;z-index: 1;}#sk-container-id-2 div.sk-parallel {display: flex;align-items: stretch;justify-content: center;background-color: white;position: relative;}#sk-container-id-2 div.sk-item::before, #sk-container-id-2 div.sk-parallel-item::before {content: \"\";position: absolute;border-left: 1px solid gray;box-sizing: border-box;top: 0;bottom: 0;left: 50%;z-index: -1;}#sk-container-id-2 div.sk-parallel-item {display: flex;flex-direction: column;z-index: 1;position: relative;background-color: white;}#sk-container-id-2 div.sk-parallel-item:first-child::after {align-self: flex-end;width: 50%;}#sk-container-id-2 div.sk-parallel-item:last-child::after {align-self: flex-start;width: 50%;}#sk-container-id-2 div.sk-parallel-item:only-child::after {width: 0;}#sk-container-id-2 div.sk-dashed-wrapped {border: 1px dashed gray;margin: 0 0.4em 0.5em 0.4em;box-sizing: border-box;padding-bottom: 0.4em;background-color: white;}#sk-container-id-2 div.sk-label label {font-family: monospace;font-weight: bold;display: inline-block;line-height: 1.2em;}#sk-container-id-2 div.sk-label-container {text-align: center;}#sk-container-id-2 div.sk-container {/* jupyter's `normalize.less` sets `[hidden] { display: none; }` but bootstrap.min.css set `[hidden] { display: none !important; }` so we also need the `!important` here to be able to override the default hidden behavior on the sphinx rendered scikit-learn.org. See: https://github.com/scikit-learn/scikit-learn/issues/21755 */display: inline-block !important;position: relative;}#sk-container-id-2 div.sk-text-repr-fallback {display: none;}</style><div id=\"sk-container-id-2\" class=\"sk-top-container\"><div class=\"sk-text-repr-fallback\"><pre>LogisticRegression(max_iter=1000)</pre><b>In a Jupyter environment, please rerun this cell to show the HTML representation or trust the notebook. <br />On GitHub, the HTML representation is unable to render, please try loading this page with nbviewer.org.</b></div><div class=\"sk-container\" hidden><div class=\"sk-item\"><div class=\"sk-estimator sk-toggleable\"><input class=\"sk-toggleable__control sk-hidden--visually\" id=\"sk-estimator-id-2\" type=\"checkbox\" checked><label for=\"sk-estimator-id-2\" class=\"sk-toggleable__label sk-toggleable__label-arrow\">LogisticRegression</label><div class=\"sk-toggleable__content\"><pre>LogisticRegression(max_iter=1000)</pre></div></div></div></div></div>"
      ],
      "text/plain": [
       "LogisticRegression(max_iter=1000)"
      ]
     },
     "execution_count": 22,
     "metadata": {},
     "output_type": "execute_result"
    }
   ],
   "source": [
    "#building logistic regression model\n",
    "\n",
    "from sklearn.linear_model import LogisticRegression\n",
    "\n",
    "model = LogisticRegression(max_iter=1000)\n",
    "model.fit(X_train, y_train)"
   ]
  },
  {
   "cell_type": "code",
   "execution_count": 24,
   "id": "4643ba58-8556-4a77-8f63-ffec9823419a",
   "metadata": {},
   "outputs": [
    {
     "name": "stdout",
     "output_type": "stream",
     "text": [
      "              precision    recall  f1-score   support\n",
      "\n",
      "           0       0.80      1.00      0.89       954\n",
      "           1       0.00      0.00      0.00       238\n",
      "\n",
      "    accuracy                           0.80      1192\n",
      "   macro avg       0.40      0.50      0.44      1192\n",
      "weighted avg       0.64      0.80      0.71      1192\n",
      "\n",
      "ROC AUC: 0.6021572150872927\n"
     ]
    },
    {
     "name": "stderr",
     "output_type": "stream",
     "text": [
      "C:\\Users\\aleji\\anaconda3\\Lib\\site-packages\\sklearn\\metrics\\_classification.py:1469: UndefinedMetricWarning: Precision and F-score are ill-defined and being set to 0.0 in labels with no predicted samples. Use `zero_division` parameter to control this behavior.\n",
      "  _warn_prf(average, modifier, msg_start, len(result))\n",
      "C:\\Users\\aleji\\anaconda3\\Lib\\site-packages\\sklearn\\metrics\\_classification.py:1469: UndefinedMetricWarning: Precision and F-score are ill-defined and being set to 0.0 in labels with no predicted samples. Use `zero_division` parameter to control this behavior.\n",
      "  _warn_prf(average, modifier, msg_start, len(result))\n",
      "C:\\Users\\aleji\\anaconda3\\Lib\\site-packages\\sklearn\\metrics\\_classification.py:1469: UndefinedMetricWarning: Precision and F-score are ill-defined and being set to 0.0 in labels with no predicted samples. Use `zero_division` parameter to control this behavior.\n",
      "  _warn_prf(average, modifier, msg_start, len(result))\n"
     ]
    }
   ],
   "source": [
    "#evaluating the model\n",
    "\n",
    "from sklearn.metrics import classification_report, roc_auc_score\n",
    "\n",
    "y_pred = model.predict(X_test)\n",
    "y_prob = model.predict_proba(X_test)[:,1]\n",
    "\n",
    "print(classification_report(y_test, y_pred))\n",
    "\n",
    "print('ROC AUC:', roc_auc_score(y_test, y_prob))"
   ]
  },
  {
   "cell_type": "code",
   "execution_count": 26,
   "id": "4c23943e-4cf1-4463-9d99-4857ddc1cc5d",
   "metadata": {},
   "outputs": [
    {
     "name": "stdout",
     "output_type": "stream",
     "text": [
      "              feature   coefficient\n",
      "6               CLAGE -5.804909e-03\n",
      "3                 YOJ -2.015452e-04\n",
      "8                CLNO -1.289104e-04\n",
      "5              DELINQ  1.040875e-04\n",
      "9             DEBTINC -6.869095e-05\n",
      "7                NINQ  6.685291e-05\n",
      "4               DEROG  5.931662e-05\n",
      "0                LOAN -1.844032e-05\n",
      "13         JOB_Office -1.107270e-05\n",
      "12        JOB_Missing -6.103775e-06\n",
      "1             MORTDUE -4.673895e-06\n",
      "15        JOB_ProfExe -3.915574e-06\n",
      "19  MORTGAGE_TO_VALUE -3.810728e-06\n",
      "10     REASON_HomeImp -3.607144e-06\n",
      "17           JOB_Self  3.339823e-06\n",
      "2               VALUE  2.459079e-06\n",
      "18      LOAN_TO_VALUE -2.162618e-06\n",
      "16          JOB_Sales  1.979197e-06\n",
      "11     REASON_Missing -1.798131e-06\n",
      "14          JOB_Other  1.576980e-07\n"
     ]
    }
   ],
   "source": [
    "#feature importance\n",
    "\n",
    "feature_importance = pd.DataFrame({\n",
    "    'feature': X.columns,\n",
    "    'coefficient': model.coef_[0]\n",
    "}).sort_values(by='coefficient', key=abs, ascending=False)\n",
    "\n",
    "print(feature_importance)"
   ]
  },
  {
   "cell_type": "code",
   "execution_count": 28,
   "id": "7b89eb17-2357-4018-be7d-1eddeaf49fbc",
   "metadata": {},
   "outputs": [
    {
     "name": "stderr",
     "output_type": "stream",
     "text": [
      "C:\\Users\\aleji\\anaconda3\\Lib\\site-packages\\seaborn\\_oldcore.py:1119: FutureWarning: use_inf_as_na option is deprecated and will be removed in a future version. Convert inf values to NaN before operating instead.\n",
      "  with pd.option_context('mode.use_inf_as_na', True):\n"
     ]
    },
    {
     "data": {
      "image/png": "[encoded data removed]",
      "text/plain": [
       "<Figure size 640x480 with 1 Axes>"
      ]
     },
     "metadata": {},
     "output_type": "display_data"
    },
    {
     "data": {
      "image/png": "[encoded data removed]",
      "text/plain": [
       "<Figure size 1000x600 with 1 Axes>"
      ]
     },
     "metadata": {},
     "output_type": "display_data"
    }
   ],
   "source": [
    "#visualization of feature importance\n",
    "\n",
    "import matplotlib.pyplot as plt\n",
    "import seaborn as sns\n",
    "\n",
    "# Predicted probabilities distribution\n",
    "sns.histplot(y_prob, bins=50, kde=True)\n",
    "plt.title('Predicted Probability Distribution')\n",
    "plt.show()\n",
    "\n",
    "# Top 10 feature coefficients\n",
    "plt.figure(figsize=(10,6))\n",
    "sns.barplot(x='coefficient', y='feature', data=feature_importance.head(10))\n",
    "plt.title('Top 10 Features by Coefficient Magnitude')\n",
    "plt.show()"
   ]
  },
  {
   "cell_type": "code",
   "execution_count": 30,
   "id": "2496489f-7084-4531-acdb-299dd745da74",
   "metadata": {},
   "outputs": [],
   "source": [
    "#preparing for xgboost model\n",
    "\n",
    "import pandas as pd\n",
    "import numpy as np\n",
    "from xgboost import XGBClassifier\n",
    "from sklearn.model_selection import train_test_split\n",
    "from sklearn.metrics import classification_report, confusion_matrix, roc_auc_score"
   ]
  },
  {
   "cell_type": "code",
   "execution_count": 32,
   "id": "b69ffdd9-94b9-4365-8314-ef34f73cd20c",
   "metadata": {},
   "outputs": [],
   "source": [
    "#load data\n",
    "\n",
    "df = pd.read_excel(\"Heloc.xlsx\")"
   ]
  },
  {
   "cell_type": "code",
   "execution_count": 34,
   "id": "2585abe0-76c2-4358-a1f3-02f3968ca567",
   "metadata": {},
   "outputs": [],
   "source": [
    "#preprocessing\n",
    "\n",
    "df.replace(-9, np.nan, inplace=True)\n",
    "df.dropna(inplace=True)"
   ]
  },
  {
   "cell_type": "code",
   "execution_count": 36,
   "id": "35e74399-f16b-417f-b2bd-a32c37a89122",
   "metadata": {},
   "outputs": [],
   "source": [
    "#preprocessing\n",
    "\n",
    "X = df.drop('BAD', axis=1)\n",
    "y = df['BAD']"
   ]
  },
  {
   "cell_type": "code",
   "execution_count": 38,
   "id": "b67f1f56-49ac-4019-b040-20154dbd3db7",
   "metadata": {},
   "outputs": [],
   "source": [
    "#train-test split\n",
    "\n",
    "X_train, X_test, y_train, y_test = train_test_split(\n",
    "    X, y, test_size=0.2, stratify=y, random_state=42\n",
    ")"
   ]
  },
  {
   "cell_type": "code",
   "execution_count": 40,
   "id": "3bafb343-48ce-4399-9354-bbec575e4b87",
   "metadata": {},
   "outputs": [],
   "source": [
    "#training xgboost model\n",
    "\n",
    "from sklearn.preprocessing import LabelEncoder\n",
    "\n",
    "# Make a copy if needed\n",
    "df_encoded = df.copy()\n",
    "\n",
    "# Encode REASON and JOB\n",
    "label_encoders = {}\n",
    "for col in ['REASON', 'JOB']:\n",
    "    le = LabelEncoder()\n",
    "    df_encoded[col] = le.fit_transform(df_encoded[col])\n",
    "    label_encoders[col] = le\n",
    "\n",
    "# Redefine X and y\n",
    "X = df_encoded.drop('BAD', axis=1)\n",
    "y = df_encoded['BAD']"
   ]
  },
  {
   "cell_type": "code",
   "execution_count": 42,
   "id": "c07c1d8a-e30d-4f88-99ed-07851342f315",
   "metadata": {},
   "outputs": [],
   "source": [
    "#train-test split model\n",
    "\n",
    "X_train, X_test, y_train, y_test = train_test_split(\n",
    "    X, y, test_size=0.2, stratify=y, random_state=42\n",
    ")"
   ]
  },
  {
   "cell_type": "code",
   "execution_count": 44,
   "id": "25629026-1ec8-4b4d-b3af-e129281c5612",
   "metadata": {},
   "outputs": [
    {
     "name": "stderr",
     "output_type": "stream",
     "text": [
      "C:\\Users\\aleji\\anaconda3\\Lib\\site-packages\\xgboost\\training.py:183: UserWarning: [01:11:26] WARNING: C:\\actions-runner\\_work\\xgboost\\xgboost\\src\\learner.cc:738: \n",
      "Parameters: { \"use_label_encoder\" } are not used.\n",
      "\n",
      "  bst.update(dtrain, iteration=i, fobj=obj)\n"
     ]
    },
    {
     "data": {
      "text/html": [
       "<style>#sk-container-id-4 {color: black;}#sk-container-id-4 pre{padding: 0;}#sk-container-id-4 div.sk-toggleable {background-color: white;}#sk-container-id-4 label.sk-toggleable__label {cursor: pointer;display: block;width: 100%;margin-bottom: 0;padding: 0.3em;box-sizing: border-box;text-align: center;}#sk-container-id-4 label.sk-toggleable__label-arrow:before {content: \"▸\";float: left;margin-right: 0.25em;color: #696969;}#sk-container-id-4 label.sk-toggleable__label-arrow:hover:before {color: black;}#sk-container-id-4 div.sk-estimator:hover label.sk-toggleable__label-arrow:before {color: black;}#sk-container-id-4 div.sk-toggleable__content {max-height: 0;max-width: 0;overflow: hidden;text-align: left;background-color: #f0f8ff;}#sk-container-id-4 div.sk-toggleable__content pre {margin: 0.2em;color: black;border-radius: 0.25em;background-color: #f0f8ff;}#sk-container-id-4 input.sk-toggleable__control:checked~div.sk-toggleable__content {max-height: 200px;max-width: 100%;overflow: auto;}#sk-container-id-4 input.sk-toggleable__control:checked~label.sk-toggleable__label-arrow:before {content: \"▾\";}#sk-container-id-4 div.sk-estimator input.sk-toggleable__control:checked~label.sk-toggleable__label {background-color: #d4ebff;}#sk-container-id-4 div.sk-label input.sk-toggleable__control:checked~label.sk-toggleable__label {background-color: #d4ebff;}#sk-container-id-4 input.sk-hidden--visually {border: 0;clip: rect(1px 1px 1px 1px);clip: rect(1px, 1px, 1px, 1px);height: 1px;margin: -1px;overflow: hidden;padding: 0;position: absolute;width: 1px;}#sk-container-id-4 div.sk-estimator {font-family: monospace;background-color: #f0f8ff;border: 1px dotted black;border-radius: 0.25em;box-sizing: border-box;margin-bottom: 0.5em;}#sk-container-id-4 div.sk-estimator:hover {background-color: #d4ebff;}#sk-container-id-4 div.sk-parallel-item::after {content: \"\";width: 100%;border-bottom: 1px solid gray;flex-grow: 1;}#sk-container-id-4 div.sk-label:hover label.sk-toggleable__label {background-color: #d4ebff;}#sk-container-id-4 div.sk-serial::before {content: \"\";position: absolute;border-left: 1px solid gray;box-sizing: border-box;top: 0;bottom: 0;left: 50%;z-index: 0;}#sk-container-id-4 div.sk-serial {display: flex;flex-direction: column;align-items: center;background-color: white;padding-right: 0.2em;padding-left: 0.2em;position: relative;}#sk-container-id-4 div.sk-item {position: relative;z-index: 1;}#sk-container-id-4 div.sk-parallel {display: flex;align-items: stretch;justify-content: center;background-color: white;position: relative;}#sk-container-id-4 div.sk-item::before, #sk-container-id-4 div.sk-parallel-item::before {content: \"\";position: absolute;border-left: 1px solid gray;box-sizing: border-box;top: 0;bottom: 0;left: 50%;z-index: -1;}#sk-container-id-4 div.sk-parallel-item {display: flex;flex-direction: column;z-index: 1;position: relative;background-color: white;}#sk-container-id-4 div.sk-parallel-item:first-child::after {align-self: flex-end;width: 50%;}#sk-container-id-4 div.sk-parallel-item:last-child::after {align-self: flex-start;width: 50%;}#sk-container-id-4 div.sk-parallel-item:only-child::after {width: 0;}#sk-container-id-4 div.sk-dashed-wrapped {border: 1px dashed gray;margin: 0 0.4em 0.5em 0.4em;box-sizing: border-box;padding-bottom: 0.4em;background-color: white;}#sk-container-id-4 div.sk-label label {font-family: monospace;font-weight: bold;display: inline-block;line-height: 1.2em;}#sk-container-id-4 div.sk-label-container {text-align: center;}#sk-container-id-4 div.sk-container {/* jupyter's `normalize.less` sets `[hidden] { display: none; }` but bootstrap.min.css set `[hidden] { display: none !important; }` so we also need the `!important` here to be able to override the default hidden behavior on the sphinx rendered scikit-learn.org. See: https://github.com/scikit-learn/scikit-learn/issues/21755 */display: inline-block !important;position: relative;}#sk-container-id-4 div.sk-text-repr-fallback {display: none;}</style><div id=\"sk-container-id-4\" class=\"sk-top-container\"><div class=\"sk-text-repr-fallback\"><pre>XGBClassifier(base_score=None, booster=None, callbacks=None,\n",
       "              colsample_bylevel=None, colsample_bynode=None,\n",
       "              colsample_bytree=None, device=None, early_stopping_rounds=None,\n",
       "              enable_categorical=False, eval_metric=&#x27;logloss&#x27;,\n",
       "              feature_types=None, feature_weights=None, gamma=None,\n",
       "              grow_policy=None, importance_type=None,\n",
       "              interaction_constraints=None, learning_rate=None, max_bin=None,\n",
       "              max_cat_threshold=None, max_cat_to_onehot=None,\n",
       "              max_delta_step=None, max_depth=None, max_leaves=None,\n",
       "              min_child_weight=None, missing=nan, monotone_constraints=None,\n",
       "              multi_strategy=None, n_estimators=None, n_jobs=None,\n",
       "              num_parallel_tree=None, ...)</pre><b>In a Jupyter environment, please rerun this cell to show the HTML representation or trust the notebook. <br />On GitHub, the HTML representation is unable to render, please try loading this page with nbviewer.org.</b></div><div class=\"sk-container\" hidden><div class=\"sk-item\"><div class=\"sk-estimator sk-toggleable\"><input class=\"sk-toggleable__control sk-hidden--visually\" id=\"sk-estimator-id-4\" type=\"checkbox\" checked><label for=\"sk-estimator-id-4\" class=\"sk-toggleable__label sk-toggleable__label-arrow\">XGBClassifier</label><div class=\"sk-toggleable__content\"><pre>XGBClassifier(base_score=None, booster=None, callbacks=None,\n",
       "              colsample_bylevel=None, colsample_bynode=None,\n",
       "              colsample_bytree=None, device=None, early_stopping_rounds=None,\n",
       "              enable_categorical=False, eval_metric=&#x27;logloss&#x27;,\n",
       "              feature_types=None, feature_weights=None, gamma=None,\n",
       "              grow_policy=None, importance_type=None,\n",
       "              interaction_constraints=None, learning_rate=None, max_bin=None,\n",
       "              max_cat_threshold=None, max_cat_to_onehot=None,\n",
       "              max_delta_step=None, max_depth=None, max_leaves=None,\n",
       "              min_child_weight=None, missing=nan, monotone_constraints=None,\n",
       "              multi_strategy=None, n_estimators=None, n_jobs=None,\n",
       "              num_parallel_tree=None, ...)</pre></div></div></div></div></div>"
      ],
      "text/plain": [
       "XGBClassifier(base_score=None, booster=None, callbacks=None,\n",
       "              colsample_bylevel=None, colsample_bynode=None,\n",
       "              colsample_bytree=None, device=None, early_stopping_rounds=None,\n",
       "              enable_categorical=False, eval_metric='logloss',\n",
       "              feature_types=None, feature_weights=None, gamma=None,\n",
       "              grow_policy=None, importance_type=None,\n",
       "              interaction_constraints=None, learning_rate=None, max_bin=None,\n",
       "              max_cat_threshold=None, max_cat_to_onehot=None,\n",
       "              max_delta_step=None, max_depth=None, max_leaves=None,\n",
       "              min_child_weight=None, missing=nan, monotone_constraints=None,\n",
       "              multi_strategy=None, n_estimators=None, n_jobs=None,\n",
       "              num_parallel_tree=None, ...)"
      ]
     },
     "execution_count": 44,
     "metadata": {},
     "output_type": "execute_result"
    }
   ],
   "source": [
    "#train xgboost model\n",
    "\n",
    "# Calculate scale_pos_weight\n",
    "weight = (y == 0).sum() / (y == 1).sum()\n",
    "\n",
    "model = XGBClassifier(scale_pos_weight=weight, use_label_encoder=False, eval_metric='logloss')\n",
    "model.fit(X_train, y_train)"
   ]
  },
  {
   "cell_type": "code",
   "execution_count": 46,
   "id": "c8608126-0b9c-49ef-b077-a70cf8d9f756",
   "metadata": {},
   "outputs": [
    {
     "name": "stdout",
     "output_type": "stream",
     "text": [
      "Classification Report:\n",
      "              precision    recall  f1-score   support\n",
      "\n",
      "           0       0.97      1.00      0.98       613\n",
      "           1       0.93      0.65      0.76        60\n",
      "\n",
      "    accuracy                           0.96       673\n",
      "   macro avg       0.95      0.82      0.87       673\n",
      "weighted avg       0.96      0.96      0.96       673\n",
      "\n",
      "Confusion Matrix:\n",
      "[[610   3]\n",
      " [ 21  39]]\n",
      "ROC AUC Score:\n",
      "0.9197117998912452\n"
     ]
    }
   ],
   "source": [
    "#predictions and evaluations\n",
    "\n",
    "y_pred = model.predict(X_test)\n",
    "\n",
    "print(\"Classification Report:\")\n",
    "print(classification_report(y_test, y_pred))\n",
    "\n",
    "print(\"Confusion Matrix:\")\n",
    "print(confusion_matrix(y_test, y_pred))\n",
    "\n",
    "print(\"ROC AUC Score:\")\n",
    "print(roc_auc_score(y_test, model.predict_proba(X_test)[:,1]))"
   ]
  },
  {
   "cell_type": "code",
   "execution_count": 47,
   "id": "9effb28c-8d51-4702-a3ca-94b86017d049",
   "metadata": {
    "scrolled": true
   },
   "outputs": [
    {
     "data": {
      "image/png": "[encoded data removed]",
      "text/plain": [
       "<Figure size 640x480 with 1 Axes>"
      ]
     },
     "metadata": {},
     "output_type": "display_data"
    }
   ],
   "source": [
    "#feature importance plot\n",
    "\n",
    "import matplotlib.pyplot as plt\n",
    "from xgboost import plot_importance\n",
    "\n",
    "plot_importance(model)\n",
    "plt.show()"
   ]
  }
 ],
 "metadata": {
  "kernelspec": {
   "display_name": "Python [conda env:base] *",
   "language": "python",
   "name": "conda-base-py"
  },
  "language_info": {
   "codemirror_mode": {
    "name": "ipython",
    "version": 3
   },
   "file_extension": ".py",
   "mimetype": "text/x-python",
   "name": "python",
   "nbconvert_exporter": "python",
   "pygments_lexer": "ipython3",
   "version": "3.11.5"
  }
 },
 "nbformat": 4,
 "nbformat_minor": 5
}
